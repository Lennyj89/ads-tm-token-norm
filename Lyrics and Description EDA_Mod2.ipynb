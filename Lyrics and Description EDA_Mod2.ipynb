{
 "cells": [
  {
   "cell_type": "markdown",
   "id": "7f79baf9",
   "metadata": {},
   "source": [
    "# ADS 509 Assignment 2.1: Tokenization, Normalization, Descriptive Statistics \n",
    "\n",
    "This notebook holds Assignment 2.1 for Module 2 in ADS 509, Applied Text Mining. Work through this notebook, writing code and answering questions where required. \n",
    "\n",
    "In the previous assignment you put together Twitter data and lyrics data on two artists. In this assignment we explore some of the textual features of those data sets. If, for some reason, you did not complete that previous assignment, data to use for this assignment can be found in the assignment materials section of Blackboard. \n",
    "\n",
    "This assignment asks you to write a short function to calculate some descriptive statistics on a piece of text. Then you are asked to find some interesting and unique statistics on your corpora. \n"
   ]
  },
  {
   "cell_type": "markdown",
   "id": "aae8e2e1",
   "metadata": {},
   "source": [
    "## General Assignment Instructions\n",
    "\n",
    "These instructions are included in every assignment, to remind you of the coding standards for the class. Feel free to delete this cell after reading it. \n",
    "\n",
    "One sign of mature code is conforming to a style guide. We recommend the [Google Python Style Guide](https://google.github.io/styleguide/pyguide.html). If you use a different style guide, please include a cell with a link. \n",
    "\n",
    "Your code should be relatively easy-to-read, sensibly commented, and clean. Writing code is a messy process, so please be sure to edit your final submission. Remove any cells that are not needed or parts of cells that contain unnecessary code. Remove inessential `import` statements and make sure that all such statements are moved into the designated cell. \n",
    "\n",
    "Make use of non-code cells for written commentary. These cells should be grammatical and clearly written. In some of these cells you will have questions to answer. The questions will be marked by a \"Q:\" and will have a corresponding \"A:\" spot for you. *Make sure to answer every question marked with a `Q:` for full credit.* \n"
   ]
  },
  {
   "cell_type": "code",
   "execution_count": 2,
   "id": "e2d096b7",
   "metadata": {},
   "outputs": [],
   "source": [
    "import os\n",
    "import re\n",
    "import emoji\n",
    "import pandas as pd\n",
    "import numpy as np\n",
    "\n",
    "from collections import Counter, defaultdict\n",
    "from nltk.corpus import stopwords\n",
    "from string import punctuation\n",
    "\n",
    "sw = stopwords.words(\"english\")"
   ]
  },
  {
   "cell_type": "code",
   "execution_count": 549,
   "id": "6b555ab2",
   "metadata": {},
   "outputs": [
    {
     "name": "stdout",
     "output_type": "stream",
     "text": [
      "Collecting matplotlib\n",
      "  Downloading matplotlib-3.5.2-cp39-cp39-win_amd64.whl (7.2 MB)\n",
      "Requirement already satisfied: pyparsing>=2.2.1 in c:\\users\\lenny\\anaconda3\\envs\\my-env-for-ads509\\lib\\site-packages (from matplotlib) (3.0.4)\n",
      "Requirement already satisfied: packaging>=20.0 in c:\\users\\lenny\\anaconda3\\envs\\my-env-for-ads509\\lib\\site-packages (from matplotlib) (21.3)\n",
      "Collecting kiwisolver>=1.0.1\n",
      "  Downloading kiwisolver-1.4.2-cp39-cp39-win_amd64.whl (55 kB)\n",
      "Requirement already satisfied: python-dateutil>=2.7 in c:\\users\\lenny\\anaconda3\\envs\\my-env-for-ads509\\lib\\site-packages (from matplotlib) (2.8.2)\n",
      "Requirement already satisfied: numpy>=1.17 in c:\\users\\lenny\\anaconda3\\envs\\my-env-for-ads509\\lib\\site-packages (from matplotlib) (1.22.3)\n",
      "Collecting cycler>=0.10\n",
      "  Downloading cycler-0.11.0-py3-none-any.whl (6.4 kB)\n",
      "Collecting pillow>=6.2.0\n",
      "  Downloading Pillow-9.1.1-cp39-cp39-win_amd64.whl (3.3 MB)\n",
      "Collecting fonttools>=4.22.0\n",
      "  Downloading fonttools-4.33.3-py3-none-any.whl (930 kB)\n",
      "Requirement already satisfied: six>=1.5 in c:\\users\\lenny\\anaconda3\\envs\\my-env-for-ads509\\lib\\site-packages (from python-dateutil>=2.7->matplotlib) (1.16.0)\n",
      "Installing collected packages: pillow, kiwisolver, fonttools, cycler, matplotlib\n",
      "Successfully installed cycler-0.11.0 fonttools-4.33.3 kiwisolver-1.4.2 matplotlib-3.5.2 pillow-9.1.1\n"
     ]
    }
   ],
   "source": [
    "# Add any additional import statements you need here\n",
    "# !pip install emoji\n",
    "# !pip install nltk\n",
    "import nltk\n",
    "#nltk.download('stopwords')\n",
    "\n",
    "#!pip install fsspec\n",
    "#!pip install matplotlib\n",
    "import fsspec\n",
    "import matplotlib"
   ]
  },
  {
   "cell_type": "code",
   "execution_count": 3,
   "id": "923b5a86",
   "metadata": {},
   "outputs": [],
   "source": [
    "# change `data_location` to the location of the folder on your machine.\n",
    "data_location = \"/users/lenny/\"\n",
    "\n",
    "# These subfolders should still work if you correctly stored the \n",
    "# data from the Module 1 assignment\n",
    "twitter_folder = \"twitter/\"\n",
    "lyrics_folder = \"lyrics/\""
   ]
  },
  {
   "cell_type": "code",
   "execution_count": 4,
   "id": "06522af9",
   "metadata": {},
   "outputs": [],
   "source": [
    "def descriptive_stats(tokens, num_tokens = 5, verbose=True) :\n",
    "    \"\"\"\n",
    "        Given a list of tokens, print number of tokens, number of unique tokens, \n",
    "        number of characters, lexical diversity (https://en.wikipedia.org/wiki/Lexical_diversity), \n",
    "        and num_tokens most common tokens. Return a list with the number of tokens, number\n",
    "        of unique tokens, lexical diversity, and number of characters. \n",
    "    \n",
    "    \"\"\"\n",
    "\n",
    "    # Fill in the correct values here.\n",
    "    tokes = tokens.split()\n",
    "    num_tokens = sum(map(len, (s.split() for s in tokes)))\n",
    "    num_unique_tokens = len(set(w.lower() for w in tokes))\n",
    "    lexical_diversity = num_unique_tokens / num_tokens\n",
    "    num_characters = sum(list(map(len, tokes)))\n",
    "    \n",
    "    if verbose :        \n",
    "        print(f\"There are {num_tokens} tokens in the data.\")\n",
    "        print(f\"There are {num_unique_tokens} unique tokens in the data.\")\n",
    "        print(f\"There are {num_characters} characters in the data.\")\n",
    "        print(f\"The lexical diversity is {lexical_diversity:.3f} in the data.\")\n",
    "    \n",
    "        # print the five most common tokens\n",
    "        \n",
    "    return([num_tokens, num_unique_tokens,\n",
    "            lexical_diversity,\n",
    "            num_characters])\n",
    "    "
   ]
  },
  {
   "cell_type": "code",
   "execution_count": 5,
   "id": "59dcf058",
   "metadata": {},
   "outputs": [
    {
     "name": "stdout",
     "output_type": "stream",
     "text": [
      "There are 13 tokens in the data.\n",
      "There are 9 unique tokens in the data.\n",
      "There are 55 characters in the data.\n",
      "The lexical diversity is 0.692 in the data.\n"
     ]
    }
   ],
   "source": [
    "text = \"\"\"here is some example text with other example text here in this text\"\"\"\n",
    "assert(descriptive_stats(text, verbose=True)[0] == 13)\n",
    "assert(descriptive_stats(text, verbose=False)[1] == 9)\n",
    "assert(descriptive_stats(text, verbose=False)[3] == 55)\n",
    "assert(abs(descriptive_stats(text, verbose=False)[2] - 0.69) < 0.02)\n"
   ]
  },
  {
   "cell_type": "markdown",
   "id": "d2e7e1a2",
   "metadata": {},
   "source": [
    "Q: Why is it beneficial to use assertion statements in your code? \n",
    "\n",
    "A: <!-- Your answer here --> Assertions are a form of unit tests.  This will allow the coder to know quickly if there are bugs present in his/her code."
   ]
  },
  {
   "cell_type": "markdown",
   "id": "9d3bf93e",
   "metadata": {},
   "source": [
    "## Data Input\n",
    "\n",
    "Now read in each of the corpora. For the lyrics data, it may be convenient to store the entire contents of the file to make it easier to inspect the titles individually, as you'll do in the last part of the assignment. In the solution, I stored the lyrics data in a dictionary with two dimensions of keys: artist and song. The value was the file contents. A data frame would work equally well. \n",
    "\n",
    "For the Twitter data, we only need the description field for this assignment. Feel free all the descriptions read it into a data structure. In the solution, I stored the descriptions as a dictionary of lists, with the key being the artist. \n",
    "\n",
    "\n"
   ]
  },
  {
   "cell_type": "code",
   "execution_count": 496,
   "id": "37d70801",
   "metadata": {},
   "outputs": [],
   "source": [
    "# Read in the lyrics data\n",
    "artist_folders = os.listdir(\"lyrics/\")\n",
    "artist_folders = [f for f in artist_folders if os.path.isdir(\"lyrics/\" + f)]\n",
    "\n",
    "lyricsDict = {}\n",
    "songtitleDict = defaultdict(list)\n",
    "for artist in artist_folders : \n",
    "    artist_files = os.listdir(\"lyrics/\" + artist)\n",
    "    artist_files = [f for f in artist_files if 'txt' in f or 'csv' in f or 'tsv' in f]\n",
    "\n",
    "    for f_name in artist_files : \n",
    "        with open(\"lyrics/\" + artist + \"/\" + f_name) as infile : \n",
    "            lines = [line.strip() for line in infile]\n",
    "            songtitleDict[artist].append(lines[0])\n",
    "            lyricsDict[artist, lines[0]] = lines[1:]"
   ]
  },
  {
   "cell_type": "code",
   "execution_count": 107,
   "id": "debcac5a",
   "metadata": {},
   "outputs": [],
   "source": [
    "# Read in the twitter data\n",
    "base_path = \"C://Users/lenny/twitter/\"\n",
    "twitter_files = os.listdir(\"twitter\")\n",
    "twitter_files = [f for f in twitter_files if f != \".DS_Store\"]\n",
    "artist_handles = list(set([name.split(\"_\")[0] for name in twitter_files]))\n",
    "\n",
    "descriptionDict = {}\n",
    "for artist in artist_handles :\n",
    "    follower_data_file = base_path + artist + \"_followers_data.txt\"\n",
    "    df=pd.read_csv(follower_data_file)\n",
    "    \n",
    "    descriptionDict[artist] = df['Description']"
   ]
  },
  {
   "cell_type": "markdown",
   "id": "6a5f3b12",
   "metadata": {},
   "source": [
    "## Data Cleaning\n",
    "\n",
    "Now clean and tokenize your data. Remove punctuation chacters (available in the `punctuation` object in the `string` library), split on whitespace, fold to lowercase, and remove stopwords. Store your cleaned data, which must be accessible as an interable for `descriptive_stats`, in new objects or in new columns in your data frame. \n",
    "\n"
   ]
  },
  {
   "cell_type": "code",
   "execution_count": 128,
   "id": "71c73d86",
   "metadata": {},
   "outputs": [],
   "source": [
    "punctuation = set(punctuation) # speeds up comparison\n",
    "tw_punct = punctuation - {\"#\"}\n",
    "\n",
    "# Stopwords\n",
    "sw = stopwords.words(\"english\")"
   ]
  },
  {
   "cell_type": "code",
   "execution_count": 356,
   "id": "b327033a",
   "metadata": {},
   "outputs": [],
   "source": [
    "# create your clean twitter data here\n",
    "cleanDescDict = defaultdict(list)\n",
    "for artist in artist_handles:\n",
    "    for i in range(len(descriptionDict[artist])):\n",
    "        raw_text = descriptionDict[artist][i]\n",
    "        \n",
    "        #handle nan's\n",
    "        if pd.isnull(raw_text):\n",
    "            raw_text = 'Missing Description'\n",
    "        else:\n",
    "            raw_text = raw_text\n",
    "        \n",
    "        #remove punctuation\n",
    "        nopunct_data = \"\".join([ch for ch in raw_text if ch not in tw_punct])\n",
    "        \n",
    "        #fold to lowercase\n",
    "        lower_data = nopunct_data.lower()\n",
    "        \n",
    "        #tokenize the data\n",
    "        token_data = lower_data.split()\n",
    "        \n",
    "        #remove stopwords\n",
    "        data_wo_sw = [word for word in token_data if not word in sw]\n",
    "              \n",
    "        #store in the new cleaned dictionary\n",
    "        cleanDescDict[artist].append(data_wo_sw)"
   ]
  },
  {
   "cell_type": "code",
   "execution_count": 492,
   "id": "e0f22e10",
   "metadata": {},
   "outputs": [],
   "source": [
    "# create your clean lyrics data here\n",
    "cleanLyricsDictByBand = defaultdict(list)\n",
    "cleanLyricsDictBySong = defaultdict(list)\n",
    "for (artist, song_name), lyric in lyricsDict.items():\n",
    "    for i in range(len(lyricsDict[artist, song_name])):\n",
    "        raw_text = lyricsDict[artist, song_name][i]\n",
    "        \n",
    "        #handle empty sets\n",
    "        if raw_text == '':\n",
    "            continue\n",
    "\n",
    "        #remove punctuation\n",
    "        nopunct_data = \"\".join([ch for ch in raw_text if ch not in tw_punct])\n",
    "        \n",
    "        #fold to lowercase\n",
    "        lower_data = nopunct_data.lower()\n",
    "        \n",
    "        #tokenize the data\n",
    "        token_data = lower_data.split()\n",
    "        \n",
    "        #remove stopwords\n",
    "        data_wo_sw = [word for word in token_data if not word in sw]\n",
    "              \n",
    "        #store in the new cleaned dictionary\n",
    "        cleanLyricsDictByBand[artist].append(data_wo_sw)\n",
    "        cleanLyricsDictBySong[artist, song_name].append(data_wo_sw)"
   ]
  },
  {
   "cell_type": "markdown",
   "id": "f2dd0179",
   "metadata": {},
   "source": [
    "## Basic Descriptive Statistics\n",
    "\n",
    "Call your `descriptive_stats` function on both your lyrics data and your twitter data and for both artists (four total calls). "
   ]
  },
  {
   "cell_type": "code",
   "execution_count": 414,
   "id": "f0bbedd9",
   "metadata": {},
   "outputs": [
    {
     "name": "stdout",
     "output_type": "stream",
     "text": [
      "There are 1015224 tokens in the data.\n",
      "There are 158766 unique tokens in the data.\n",
      "There are 9698305 characters in the data.\n",
      "The lexical diversity is 0.156 in the data.\n"
     ]
    },
    {
     "data": {
      "text/plain": [
       "[1015224, 158766, 0.15638519183943642, 9698305]"
      ]
     },
     "execution_count": 414,
     "metadata": {},
     "output_type": "execute_result"
    }
   ],
   "source": [
    "# calls to descriptive_stats here\n",
    "\n",
    "#twitter calls artist 1\n",
    "mtrenchString = str(cleanDescDict['mtrench'])\n",
    "descriptive_stats(mtrenchString, verbose=True)"
   ]
  },
  {
   "cell_type": "code",
   "execution_count": 415,
   "id": "72f3a5c2",
   "metadata": {},
   "outputs": [
    {
     "name": "stdout",
     "output_type": "stream",
     "text": [
      "There are 1159120 tokens in the data.\n",
      "There are 187753 unique tokens in the data.\n",
      "There are 10940916 characters in the data.\n",
      "The lexical diversity is 0.162 in the data.\n"
     ]
    },
    {
     "data": {
      "text/plain": [
       "[1159120, 187753, 0.16197891503899509, 10940916]"
      ]
     },
     "execution_count": 415,
     "metadata": {},
     "output_type": "execute_result"
    }
   ],
   "source": [
    "#twitter calls artist 2\n",
    "natewantstobtlString = str(cleanDescDict['NateWantsToBtl'])\n",
    "descriptive_stats(natewantstobtlString, verbose=True)"
   ]
  },
  {
   "cell_type": "code",
   "execution_count": 427,
   "id": "52801c62",
   "metadata": {},
   "outputs": [
    {
     "name": "stdout",
     "output_type": "stream",
     "text": [
      "There are 11740 tokens in the data.\n",
      "There are 2583 unique tokens in the data.\n",
      "There are 100070 characters in the data.\n",
      "The lexical diversity is 0.220 in the data.\n"
     ]
    },
    {
     "data": {
      "text/plain": [
       "[11740, 2583, 0.22001703577512777, 100070]"
      ]
     },
     "execution_count": 427,
     "metadata": {},
     "output_type": "execute_result"
    }
   ],
   "source": [
    "#lyrics calls artist 1\n",
    "marianastrenchString = str(cleanLyricsDictByBand['marianas trench'])\n",
    "descriptive_stats(marianastrenchString, verbose=True)"
   ]
  },
  {
   "cell_type": "code",
   "execution_count": 428,
   "id": "d254d810",
   "metadata": {},
   "outputs": [
    {
     "name": "stdout",
     "output_type": "stream",
     "text": [
      "There are 46246 tokens in the data.\n",
      "There are 7826 unique tokens in the data.\n",
      "There are 391629 characters in the data.\n",
      "The lexical diversity is 0.169 in the data.\n"
     ]
    },
    {
     "data": {
      "text/plain": [
       "[46246, 7826, 0.16922544652510488, 391629]"
      ]
     },
     "execution_count": 428,
     "metadata": {},
     "output_type": "execute_result"
    }
   ],
   "source": [
    "#lyrics calls artist 2\n",
    "natewantstobattleSting = str(cleanLyricsDictByBand['nate wants to battle'])\n",
    "descriptive_stats(natewantstobattleSting, verbose=True)"
   ]
  },
  {
   "cell_type": "markdown",
   "id": "46294409",
   "metadata": {},
   "source": [
    "Q: How do you think the \"top 5 words\" would be different if we left stopwords in the data? \n",
    "\n",
    "A: The top 5 words would be dominated by stop words if those words were allowed to stay in the data.\n",
    "\n",
    "---\n",
    "\n",
    "Q: What were your prior beliefs about the lexical diversity between the artists? Does the difference (or lack thereof) in lexical diversity between the artists conform to your prior beliefs? \n",
    "\n",
    "A: I don't know that I had an expectation, but after seeing the results, it makes sense that the lexical data between artists would be low.  Many lyrics contain a majority of stop words and in addition, songs tend to repeat words (i.e. the chorus).\n"
   ]
  },
  {
   "cell_type": "markdown",
   "id": "4d4e1ac1",
   "metadata": {},
   "source": [
    "\n",
    "## Specialty Statistics\n",
    "\n",
    "The descriptive statistics we have calculated are quite generic. You will now calculate a handful of statistics tailored to these data.\n",
    "\n",
    "1. Ten most common emojis by artist in the twitter descriptions.\n",
    "1. Ten most common hashtags by artist in the twitter descriptions.\n",
    "1. Five most common words in song titles by artist. \n",
    "1. For each artist, a histogram of song lengths (in terms of number of tokens) \n",
    "\n",
    "We can use the `emoji` library to help us identify emojis and you have been given a function to help you.\n"
   ]
  },
  {
   "cell_type": "code",
   "execution_count": 429,
   "id": "753a5a3e",
   "metadata": {},
   "outputs": [],
   "source": [
    "def is_emoji(s):\n",
    "    return(s in emoji.UNICODE_EMOJI['en'])\n",
    "\n",
    "assert(is_emoji(\"❤️\"))\n",
    "assert(not is_emoji(\":-)\"))"
   ]
  },
  {
   "cell_type": "code",
   "execution_count": 454,
   "id": "6afde01a",
   "metadata": {},
   "outputs": [],
   "source": [
    "def extract_hash_tags(s):\n",
    "    return set(part[1:] for part in s.split() if part.startswith('#'))"
   ]
  },
  {
   "cell_type": "markdown",
   "id": "986fc4c0",
   "metadata": {},
   "source": [
    "### Emojis 😁\n",
    "\n",
    "What are the ten most common emojis by artist in the twitter descriptions? \n"
   ]
  },
  {
   "cell_type": "code",
   "execution_count": 455,
   "id": "269cd433",
   "metadata": {},
   "outputs": [
    {
     "name": "stdout",
     "output_type": "stream",
     "text": [
      "Here are the 10 most common emojis for NateWantsToBtl:\n",
      "[('❤', 3561), ('🏳', 2829), ('✨', 2790), ('🌈', 2773), ('💜', 2419), ('💙', 1895), ('🖤', 1541), ('💖', 1071), ('💕', 1029), ('🔞', 1027)]\n",
      "Here are the 10 most common emojis for mtrench:\n",
      "[('❤', 5440), ('♥', 2678), ('✨', 2042), ('🌈', 1448), ('✌', 1386), ('🏻', 1179), ('🏳', 1114), ('💙', 1085), ('💜', 1061), ('💕', 917)]\n"
     ]
    }
   ],
   "source": [
    "# Your code here\n",
    "for artist in artist_handles:\n",
    "    emoji_list = []\n",
    "    for i in range(len(descriptionDict[artist])):\n",
    "        raw_text = descriptionDict[artist][i]\n",
    "        \n",
    "        #break down raw_text\n",
    "        break_down = [ch for ch in str(raw_text)]\n",
    "        \n",
    "        #add the emoji to the list if it is an emoji\n",
    "        for chct in break_down:\n",
    "            if is_emoji(chct):\n",
    "                emoji_list.append(chct)\n",
    "    print(\"Here are the 10 most common emojis for \" + artist + \":\")\n",
    "    print(Counter(emoji_list).most_common(10))"
   ]
  },
  {
   "cell_type": "markdown",
   "id": "bab9b770",
   "metadata": {},
   "source": [
    "### Hashtags\n",
    "\n",
    "What are the ten most common hashtags by artist in the twitter descriptions? \n"
   ]
  },
  {
   "cell_type": "code",
   "execution_count": 465,
   "id": "07c396f1",
   "metadata": {},
   "outputs": [
    {
     "name": "stdout",
     "output_type": "stream",
     "text": [
      "Here are the 10 most common hashtags for NateWantsToBtl:\n",
      "[('#BlackLivesMatter', 292), ('#BLM', 266), ('#1', 195), ('#blacklivesmatter', 152), ('#StopAsianHate', 75), ('#JOYCONBOYZFOREVER', 65), ('#DnD', 61), ('#ENVtuber', 54), ('#ACAB', 49), ('#dnd', 44)]\n",
      "Here are the 10 most common hashtags for mtrench:\n",
      "[('#1', 204), ('#blacklivesmatter', 106), ('#teamfollowback', 98), ('#BlackLivesMatter', 96), ('#BLM', 88), ('#Trencher', 83), ('#', 71), ('#Directioner', 67), ('#TeamFollowBack', 61), ('#trencher', 49)]\n"
     ]
    }
   ],
   "source": [
    "# Your code here\n",
    "for artist in artist_handles:\n",
    "    hashtag_list = []\n",
    "    for i in range(len(descriptionDict[artist])):\n",
    "        raw_text = descriptionDict[artist][i]\n",
    "        \n",
    "        #handle nan's\n",
    "        if pd.isnull(raw_text):\n",
    "            raw_text = 'Missing Description'\n",
    "        else:\n",
    "            raw_text = raw_text\n",
    "        \n",
    "        #add the hashtag to the list if it is a hashtag\n",
    "        for chct in raw_text.split():\n",
    "            if chct[0] == '#':\n",
    "                hashtag_list.append(chct)\n",
    "                \n",
    "    print(\"Here are the 10 most common hashtags for \" + artist + \":\")\n",
    "    print(Counter(hashtag_list).most_common(10))"
   ]
  },
  {
   "cell_type": "markdown",
   "id": "d10f21d5",
   "metadata": {},
   "source": [
    "### Song Titles\n",
    "\n",
    "What are the five most common words in song titles by artist? The song titles should be on the first line of the lyrics pages, so if you have kept the raw file contents around, you will not need to re-read the data.\n"
   ]
  },
  {
   "cell_type": "code",
   "execution_count": 513,
   "id": "bb69b36b",
   "metadata": {},
   "outputs": [
    {
     "name": "stdout",
     "output_type": "stream",
     "text": [
      "Here are the 5 most common words for Nate Wants to Battle:\n",
      "[('The', 39), ('Of', 16), ('Me', 15), ('To', 15), ('My', 13)]\n",
      "Here are the 5 most common words for Marianas Trench:\n",
      "[('You', 6), ('To', 4), ('Of', 4), ('Me', 4), ('The', 4)]\n"
     ]
    }
   ],
   "source": [
    "# Your code here\n",
    "mtrench_songs = []\n",
    "natewantstobtl_songs = []\n",
    "for artist in songtitleDict:\n",
    "    for i in range(len(songtitleDict[artist])):\n",
    "        raw_text = songtitleDict[artist][i]\n",
    "        \n",
    "        if artist == 'marianas trench':\n",
    "            mtrench_songs.extend(raw_text.split())\n",
    "        else:\n",
    "            natewantstobtl_songs.extend(raw_text.split())\n",
    "\n",
    "print(\"Here are the 5 most common words for Nate Wants to Battle:\")\n",
    "print(Counter(natewantstobtl_songs).most_common(5))\n",
    "\n",
    "print(\"Here are the 5 most common words for Marianas Trench:\")\n",
    "print(Counter(mtrench_songs).most_common(5))"
   ]
  },
  {
   "cell_type": "markdown",
   "id": "5dd4fd71",
   "metadata": {},
   "source": [
    "### Song Lengths\n",
    "\n",
    "For each artist, a histogram of song lengths (in terms of number of tokens). If you put the song lengths in a data frame with an artist column, matplotlib will make the plotting quite easy. An example is given to help you out. \n"
   ]
  },
  {
   "cell_type": "code",
   "execution_count": 550,
   "id": "805a1e52",
   "metadata": {},
   "outputs": [
    {
     "data": {
      "text/plain": [
       "artist\n",
       "Artist 1    AxesSubplot(0.125,0.125;0.775x0.755)\n",
       "Artist 2    AxesSubplot(0.125,0.125;0.775x0.755)\n",
       "Name: length, dtype: object"
      ]
     },
     "execution_count": 550,
     "metadata": {},
     "output_type": "execute_result"
    },
    {
     "data": {
      "image/png": "[encoded data removed]",
      "text/plain": [
       "<Figure size 432x288 with 1 Axes>"
      ]
     },
     "metadata": {
      "needs_background": "light"
     },
     "output_type": "display_data"
    }
   ],
   "source": [
    "num_replicates = 1000\n",
    "\n",
    "df = pd.DataFrame({\n",
    "    \"artist\" : ['Artist 1'] * num_replicates + ['Artist 2']*num_replicates,\n",
    "    \"length\" : np.concatenate((np.random.poisson(125,num_replicates),np.random.poisson(150,num_replicates)))\n",
    "})\n",
    "\n",
    "df.groupby('artist')['length'].plot(kind=\"hist\",density=True,alpha=0.5,legend=True)"
   ]
  },
  {
   "cell_type": "markdown",
   "id": "8fde9ebb",
   "metadata": {},
   "source": [
    "Since the lyrics may be stored with carriage returns or tabs, it may be useful to have a function that can collapse whitespace, using regular expressions, and be used for splitting. \n",
    "\n",
    "Q: What does the regular expression `'\\s+'` match on? \n",
    "\n",
    "A: it matches on one or more whitespaces\n"
   ]
  },
  {
   "cell_type": "code",
   "execution_count": 514,
   "id": "f0e34516",
   "metadata": {},
   "outputs": [],
   "source": [
    "collapse_whitespace = re.compile(r'\\s+')\n",
    "\n",
    "def tokenize_lyrics(lyric) : \n",
    "    \"\"\"strip and split on whitespace\"\"\"\n",
    "    return([item.lower() for item in collapse_whitespace.split(lyric)])"
   ]
  },
  {
   "cell_type": "code",
   "execution_count": 537,
   "id": "2294c440",
   "metadata": {},
   "outputs": [],
   "source": [
    "# Your lyric length comparison chart here.\n",
    "songlength = defaultdict(list)\n",
    "for (artist, song_name), lyric in lyricsDict.items():\n",
    "    raw_text = str(lyric)\n",
    "    \n",
    "    tokens = tokenize_lyrics(raw_text)\n",
    "    token_length = len(tokens)\n",
    "    \n",
    "    songlength[artist].append(token_length)"
   ]
  },
  {
   "cell_type": "code",
   "execution_count": 556,
   "id": "82851e8a",
   "metadata": {},
   "outputs": [],
   "source": [
    "mtrench_df = pd.DataFrame(songlength['marianas trench'], columns=['length'])\n",
    "natewantstobtl_df = pd.DataFrame(songlength['nate wants to battle'], columns=['length'])"
   ]
  },
  {
   "cell_type": "code",
   "execution_count": 560,
   "id": "f60538d7",
   "metadata": {},
   "outputs": [],
   "source": [
    "mtrench_df['artist'] = 'Marianas Trench'\n",
    "natewantstobtl_df['artist'] = 'Nate Wants To Battle'"
   ]
  },
  {
   "cell_type": "code",
   "execution_count": 561,
   "id": "cdd87612",
   "metadata": {},
   "outputs": [
    {
     "data": {
      "text/plain": [
       "artist\n",
       "Nate Wants To Battle    AxesSubplot(0.125,0.125;0.775x0.755)\n",
       "Name: length, dtype: object"
      ]
     },
     "execution_count": 561,
     "metadata": {},
     "output_type": "execute_result"
    },
    {
     "data": {
      "image/png": "[encoded data removed]",
      "text/plain": [
       "<Figure size 432x288 with 1 Axes>"
      ]
     },
     "metadata": {
      "needs_background": "light"
     },
     "output_type": "display_data"
    }
   ],
   "source": [
    "mtrench_df.groupby('artist')['length'].plot(kind=\"hist\",density=True,alpha=0.5,legend=True)\n",
    "natewantstobtl_df.groupby('artist')['length'].plot(kind=\"hist\",density=True,alpha=0.5,legend=True)"
   ]
  },
  {
   "cell_type": "code",
   "execution_count": null,
   "id": "8b96282f",
   "metadata": {},
   "outputs": [],
   "source": []
  }
 ],
 "metadata": {
  "kernelspec": {
   "display_name": "Python 3 (ipykernel)",
   "language": "python",
   "name": "python3"
  },
  "language_info": {
   "codemirror_mode": {
    "name": "ipython",
    "version": 3
   },
   "file_extension": ".py",
   "mimetype": "text/x-python",
   "name": "python",
   "nbconvert_exporter": "python",
   "pygments_lexer": "ipython3",
   "version": "3.9.12"
  }
 },
 "nbformat": 4,
 "nbformat_minor": 5
}
